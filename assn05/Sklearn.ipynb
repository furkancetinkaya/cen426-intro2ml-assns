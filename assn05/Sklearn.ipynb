{
 "cells": [
  {
   "cell_type": "markdown",
   "id": "cc9c71d0-a79a-4b74-858f-c0dbc1ed18a5",
   "metadata": {},
   "source": [
    "# CEN426 - Introduction to Machine Learning Task 5\n",
    "---\n",
    "The student must use the Multi-Layer Perceptron Neural Network model to make a decision on two sample datasets (one for regression and one for classification), then interpret the results.\n",
    "\n",
    "### Student Name: Furkan Çetinkaya \\<furkan.cetinkaya@outlook.com.tr\\>\n",
    "### Student ID: 2016556017"
   ]
  },
  {
   "cell_type": "code",
   "execution_count": null,
   "id": "98eabe28-abe9-45a2-ab4a-c0d294058771",
   "metadata": {},
   "outputs": [],
   "source": [
    "import pandas as pd\n",
    "import numpy  as np\n",
    "import sklearn\n",
    "from sklearn.neural_network import MLPClassifier\n",
    "from sklearn.neural_network import MLPRegressor\n",
    "from sklearn.model_selection import KFold"
   ]
  },
  {
   "cell_type": "markdown",
   "id": "91f94e98-9f0a-4139-816b-a1ec2257d8e9",
   "metadata": {},
   "source": [
    "## Read Classification Dataset and Preprocess It\n",
    "---\n",
    "Fashion MNIST Dataset: https://www.kaggle.com/zalando-research/fashionmnist"
   ]
  },
  {
   "cell_type": "code",
   "execution_count": null,
   "id": "b9c41ae2-fdb0-48f5-843f-4f71fa8bd998",
   "metadata": {},
   "outputs": [],
   "source": [
    "X1 = pd.read_csv('fashion-mnist_train.csv')[:1000]  # Read the Fashion MNIST dataset"
   ]
  },
  {
   "cell_type": "code",
   "execution_count": null,
   "id": "7224aefa-1ae8-48c4-a109-75471aa24505",
   "metadata": {},
   "outputs": [],
   "source": [
    "X1"
   ]
  },
  {
   "cell_type": "code",
   "execution_count": null,
   "id": "e9449753-17ef-413d-b0c8-84c852972419",
   "metadata": {},
   "outputs": [],
   "source": [
    "y1 = X1['label']                                     # Save label into y\n",
    "X1 = X1.drop('label', axis=1)                        # Drop label from X\n",
    "\n",
    "X1 = X1.astype('float32')                            # Convert colors into Greyscale\n",
    "X1 /= 255\n",
    "\n",
    "y1 = y1.astype('category')                           # Convert labels into categories\n",
    "X1"
   ]
  },
  {
   "cell_type": "markdown",
   "id": "988ef95e-f5c4-4d66-ac6f-1cb5c24f4292",
   "metadata": {},
   "source": [
    "## Train and predict on Multi-Layer Perceptron Classifier"
   ]
  },
  {
   "cell_type": "code",
   "execution_count": null,
   "id": "abdb2d4c-3733-40fa-b686-87ee5eb8bc6d",
   "metadata": {},
   "outputs": [],
   "source": [
    "k = 2\n",
    "kfold = KFold(n_splits=k, shuffle=True)\n",
    "\n",
    "foldNo = 1\n",
    "for train_idx, test_idx in kfold.split(X1, y1):\n",
    "    X_train, y_train, X_test, y_test = X1.iloc[train_idx], y1[train_idx], X1.iloc[test_idx], y1[test_idx]\n",
    "    mlpcModel = MLPClassifier(random_state=1, max_iter=300)\n",
    "    mlpcModel.fit(X_train, y_train)\n",
    "    prediction = mlpcModel.predict(X_test)\n",
    "    score = mlpcModel.score(X_test, y_test)\n",
    "    print(f\"Fold: {foldNo}, \\tClassification Prediction Accuracy: {score}\")\n",
    "    foldNo += 1"
   ]
  },
  {
   "cell_type": "markdown",
   "id": "63260d1d-9b92-4d27-849a-b3c6fe94025e",
   "metadata": {},
   "source": [
    "---"
   ]
  },
  {
   "cell_type": "markdown",
   "id": "9000e280-6cbf-45aa-81d6-52ada4eb6665",
   "metadata": {},
   "source": [
    "## Read Regression Dataset and Preprocess It\n",
    "---\n",
    "Red WineQuality Dataset: https://www.kaggle.com/uciml/red-wine-quality-cortez-et-al-2009"
   ]
  },
  {
   "cell_type": "code",
   "execution_count": null,
   "id": "00a50285-ea00-4748-9605-e5a957004e9f",
   "metadata": {},
   "outputs": [],
   "source": [
    "X2 = pd.read_csv('winequality-red.csv')\n",
    "X2"
   ]
  },
  {
   "cell_type": "code",
   "execution_count": null,
   "id": "485a7ad5-d451-4986-b26e-f79b8826b7f9",
   "metadata": {},
   "outputs": [],
   "source": [
    "y2 = X2['quality']\n",
    "X2 = X2.drop('quality', axis=1)\n",
    "X2"
   ]
  },
  {
   "cell_type": "markdown",
   "id": "f37cb32f-5874-4871-8ecc-ebee3f47d379",
   "metadata": {},
   "source": [
    "## Train and predict on Multi-Layer Perceptron Regressor"
   ]
  },
  {
   "cell_type": "code",
   "execution_count": null,
   "id": "0ac6c98f-aa7a-4fa5-97a3-7373efe37e08",
   "metadata": {},
   "outputs": [],
   "source": [
    "k = 2\n",
    "kfold = KFold(n_splits=k, shuffle=True)\n",
    "\n",
    "foldNo = 1\n",
    "for train_idx, test_idx in kfold.split(X2, y2):\n",
    "    X_train, y_train, X_test, y_test = X2.iloc[train_idx], y2[train_idx], X2.iloc[test_idx], y2[test_idx]\n",
    "    mlprModel = MLPRegressor(random_state=1, max_iter=500)\n",
    "    mlprModel.fit(X_train, y_train)\n",
    "    prediction = mlprModel.predict(X_test)\n",
    "    score = mlprModel.score(X_test, y_test)\n",
    "    print(f\"Fold: {foldNo}, \\tRegression Prediction Accuracy: {score}\")\n",
    "    foldNo += 1"
   ]
  },
  {
   "cell_type": "code",
   "execution_count": null,
   "id": "48ca1804-2cdc-4c76-b5ac-fba5286d1970",
   "metadata": {},
   "outputs": [],
   "source": []
  }
 ],
 "metadata": {
  "kernelspec": {
   "display_name": "Python 3",
   "language": "python",
   "name": "python3"
  },
  "language_info": {
   "codemirror_mode": {
    "name": "ipython",
    "version": 3
   },
   "file_extension": ".py",
   "mimetype": "text/x-python",
   "name": "python",
   "nbconvert_exporter": "python",
   "pygments_lexer": "ipython3",
   "version": "3.9.4"
  }
 },
 "nbformat": 4,
 "nbformat_minor": 5
}
