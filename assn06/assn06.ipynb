{
 "cells": [
  {
   "cell_type": "markdown",
   "id": "3e9d772c-243b-42ca-a533-61f407690d27",
   "metadata": {},
   "source": [
    "# CEN426 - Introduction to Machine Learning Task 6\n",
    "---\n",
    "The student must use one of Q-Learning or TD-Learning to make a decision for any problem, then interpret the results."
   ]
  },
  {
   "cell_type": "code",
   "execution_count": null,
   "id": "82e6995c-5c7f-4720-a7b3-6d7120abb8f6",
   "metadata": {},
   "outputs": [],
   "source": [
    "import numpy as np"
   ]
  },
  {
   "cell_type": "code",
   "execution_count": null,
   "id": "6e77f7cd-302b-455c-aae4-a6580b206c50",
   "metadata": {},
   "outputs": [],
   "source": [
    "# R matrix\n",
    "R = np.matrix([ [-1,-1,-1,-1,0,-1],\n",
    "        [-1,-1,-1,0,-1,100],\n",
    "        [-1,-1,-1,0,-1,-1],\n",
    "        [-1,0,0,-1,0,-1],\n",
    "        [-1,0,0,-1,-1,100],\n",
    "        [-1,0,-1,-1,0,100] ])\n",
    "\n",
    "# Q matrix\n",
    "Q = np.matrix(np.zeros([6,6]))\n",
    "\n",
    "gamma = 0.8"
   ]
  },
  {
   "cell_type": "code",
   "execution_count": null,
   "id": "ec9eb31f-25f3-480f-92ff-c48aed229e02",
   "metadata": {},
   "outputs": [],
   "source": [
    "def get_next_action(state):\n",
    "    current_state_row = R[state,]\n",
    "    av_act = np.where(current_state_row >= 0)[1]\n",
    "    next_action = int(np.random.choice(av_act,1))\n",
    "    return next_action"
   ]
  },
  {
   "cell_type": "code",
   "execution_count": null,
   "id": "e4f40379-527b-47e7-ac78-a4f76d5f3071",
   "metadata": {},
   "outputs": [],
   "source": [
    "def update(current_state, action, gamma):\n",
    "    max_index = np.where(Q[action,] == np.max(Q[action,]))[1]\n",
    "\n",
    "    if max_index.shape[0] > 1:\n",
    "        max_index = int(np.random.choice(max_index, size = 1))\n",
    "    else:\n",
    "        max_index = int(max_index)\n",
    "    \n",
    "    max_value = Q[action, max_index]\n",
    "    Q[current_state, action] = R[current_state, action] + gamma * max_value"
   ]
  },
  {
   "cell_type": "markdown",
   "id": "66bc9d0b-438e-41e8-935c-f6746aca5ef0",
   "metadata": {},
   "source": [
    "## Train the model"
   ]
  },
  {
   "cell_type": "code",
   "execution_count": null,
   "id": "f5455ba9-65e2-4369-83e3-5f7fed4fd484",
   "metadata": {},
   "outputs": [],
   "source": [
    "for i in range(10000):\n",
    "    current_state = np.random.randint(0, int(Q.shape[0]))\n",
    "    action = get_next_action(current_state)\n",
    "    update(current_state,action,gamma)\n",
    "    \n",
    "# Normalize the \"trained\" Q matrix\n",
    "print(\"Trained Q matrix:\")\n",
    "print(Q)"
   ]
  },
  {
   "cell_type": "markdown",
   "id": "9d674795-7800-48ca-a347-da1314c9d2e5",
   "metadata": {},
   "source": [
    "## Test"
   ]
  },
  {
   "cell_type": "code",
   "execution_count": null,
   "id": "c3555a29-3dea-41de-9eb5-f47723d1f8f1",
   "metadata": {},
   "outputs": [],
   "source": [
    "current_state = 0\n",
    "steps = [current_state]\n",
    "\n",
    "while current_state != 5:\n",
    "    next_step_index = np.where(Q[current_state,] == np.max(Q[current_state,]))[1]\n",
    "    \n",
    "    if next_step_index.shape[0] > 1:\n",
    "        next_step_index = int(np.random.choice(next_step_index, size = 1))\n",
    "    else:\n",
    "        next_step_index = int(next_step_index)\n",
    "    \n",
    "    steps.append(next_step_index)\n",
    "    current_state = next_step_index\n",
    "\n",
    "# Print selected sequence of steps\n",
    "print(\"Selected path:\")\n",
    "print(steps)"
   ]
  },
  {
   "cell_type": "code",
   "execution_count": null,
   "id": "57658fb7-52e8-4c20-9054-84b8639f6594",
   "metadata": {},
   "outputs": [],
   "source": []
  }
 ],
 "metadata": {
  "kernelspec": {
   "display_name": "Python 3",
   "language": "python",
   "name": "python3"
  },
  "language_info": {
   "codemirror_mode": {
    "name": "ipython",
    "version": 3
   },
   "file_extension": ".py",
   "mimetype": "text/x-python",
   "name": "python",
   "nbconvert_exporter": "python",
   "pygments_lexer": "ipython3",
   "version": "3.9.4"
  }
 },
 "nbformat": 4,
 "nbformat_minor": 5
}
