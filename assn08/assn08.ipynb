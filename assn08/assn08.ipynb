{
 "cells": [
  {
   "cell_type": "markdown",
   "id": "1a8b5315-66f3-40f5-b040-0eab0f86e461",
   "metadata": {},
   "source": [
    "# CEN426 - Introduction to Machine Learning Task 08\n",
    "---\n",
    "The student must use Support Vector Machine to classify three sample datasets, then interpret the results by comparing them.\n",
    "\n",
    "### Student Name: Furkan Çetinkaya\n",
    "### Student ID: 2016556017"
   ]
  },
  {
   "cell_type": "code",
   "execution_count": null,
   "id": "fd29d783-8c0b-4d33-84fe-a0ddadf9c0c9",
   "metadata": {},
   "outputs": [],
   "source": [
    "import pandas as pd\n",
    "import numpy as np\n",
    "from sklearn.svm import SVC\n",
    "from sklearn.model_selection import KFold\n",
    "from sklearn.metrics import accuracy_score"
   ]
  },
  {
   "cell_type": "markdown",
   "id": "02412e62-860b-49c5-b593-243a8e16a6bf",
   "metadata": {},
   "source": [
    "## First Dataset "
   ]
  },
  {
   "cell_type": "code",
   "execution_count": null,
   "id": "fca9e48a-06d6-4ffb-877c-2228f47a85f6",
   "metadata": {},
   "outputs": [],
   "source": [
    "df1 = pd.read_csv('pima-indians-diabetes.csv', header=None).sample(frac=1)\n",
    "df1.columns = ['col1', 'col2', 'col3', 'col4', 'col5', 'col6', 'col7', 'col8', 'label']\n",
    "y1 = df1['label']\n",
    "X1 = df1.drop('label', axis=1)\n",
    "X1"
   ]
  },
  {
   "cell_type": "code",
   "execution_count": null,
   "id": "2a4f63f1-8ece-4119-9b92-8326ebb0b156",
   "metadata": {},
   "outputs": [],
   "source": [
    "kfold = KFold(n_splits=2)"
   ]
  },
  {
   "cell_type": "code",
   "execution_count": null,
   "id": "5fb5e442-db06-4ba7-bf28-e83a1ed486eb",
   "metadata": {},
   "outputs": [],
   "source": [
    "svmModel1 = SVC()\n",
    "\n",
    "numFolds = 1\n",
    "for idx_train, idx_test in kfold.split(X1):\n",
    "    X_train, X_test = X1.iloc[idx_train], X1.iloc[idx_test]\n",
    "    y_train, y_test = y1[idx_train], y1[idx_test]\n",
    "    \n",
    "    svmModel1.fit(X_train, y_train)\n",
    "    y_pred = svmModel1.predict(X_test)\n",
    "    score = accuracy_score(y_test, y_pred)\n",
    "    print(\"Fold: %d -- Accuracy Score: %4f\"%(numFolds, score))\n",
    "    numFolds += 1"
   ]
  },
  {
   "cell_type": "markdown",
   "id": "e5e9ecc2-ee2c-4322-b9a5-89cc55442967",
   "metadata": {},
   "source": [
    "## Second Dataset "
   ]
  },
  {
   "cell_type": "code",
   "execution_count": null,
   "id": "0edd1ca0-ceee-4f93-ac8e-204981f5566d",
   "metadata": {},
   "outputs": [],
   "source": [
    "df2 = pd.read_csv('winequality-red.csv').sample(frac=1)\n",
    "y2 = df2['quality']\n",
    "X2 = df2.drop('quality', axis=1)\n",
    "X2"
   ]
  },
  {
   "cell_type": "code",
   "execution_count": null,
   "id": "d488b6d1-ee39-414a-a6a2-a5c0e99c72b2",
   "metadata": {},
   "outputs": [],
   "source": [
    "svmModel1 = SVC()\n",
    "\n",
    "numFolds = 1\n",
    "for idx_train, idx_test in kfold.split(X2):\n",
    "    X_train, X_test = X2.iloc[idx_train], X2.iloc[idx_test]\n",
    "    y_train, y_test = y2[idx_train], y2[idx_test]\n",
    "    \n",
    "    svmModel1.fit(X_train, y_train)\n",
    "    y_pred = svmModel1.predict(X_test)\n",
    "    score = accuracy_score(y_test, y_pred)\n",
    "    print(\"Fold: %d -- Accuracy Score: %4f\"%(numFolds, score))\n",
    "    numFolds += 1"
   ]
  },
  {
   "cell_type": "code",
   "execution_count": null,
   "id": "4090f30f-0f2b-47d9-9a9b-64c917295d66",
   "metadata": {},
   "outputs": [],
   "source": [
    "df3 = pd.read_csv('new_test.csv').sample(frac=1)\n",
    "y3 = df3['poutcome']\n",
    "X3 = df3.drop('poutcome', axis=1)"
   ]
  },
  {
   "cell_type": "code",
   "execution_count": null,
   "id": "10a7bf8e-ae13-41d6-8d41-19a61626a564",
   "metadata": {},
   "outputs": [],
   "source": [
    "svmModel1 = SVC()\n",
    "\n",
    "numFolds = 1\n",
    "for idx_train, idx_test in kfold.split(X3):\n",
    "    X_train, X_test = X3.iloc[idx_train], X3.iloc[idx_test]\n",
    "    y_train, y_test = y3[idx_train], y3[idx_test]\n",
    "    \n",
    "    svmModel1.fit(X_train, y_train)\n",
    "    y_pred = svmModel1.predict(X_test)\n",
    "    score = accuracy_score(y_test, y_pred)\n",
    "    print(\"Fold: %d -- Accuracy Score: %4f\"%(numFolds, score))\n",
    "    numFolds += 1"
   ]
  },
  {
   "cell_type": "code",
   "execution_count": null,
   "id": "3f46dcb0-5d6e-49a7-8478-05fce1d5f851",
   "metadata": {},
   "outputs": [],
   "source": []
  }
 ],
 "metadata": {
  "kernelspec": {
   "display_name": "Python 3",
   "language": "python",
   "name": "python3"
  },
  "language_info": {
   "codemirror_mode": {
    "name": "ipython",
    "version": 3
   },
   "file_extension": ".py",
   "mimetype": "text/x-python",
   "name": "python",
   "nbconvert_exporter": "python",
   "pygments_lexer": "ipython3",
   "version": "3.9.5"
  }
 },
 "nbformat": 4,
 "nbformat_minor": 5
}
